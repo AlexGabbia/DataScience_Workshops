{
 "cells": [
  {
   "cell_type": "markdown",
   "metadata": {
    "toc": true
   },
   "source": [
    "<h1>Table of Contents<span class=\"tocSkip\"></span></h1>\n",
    "<div class=\"toc\"><ul class=\"toc-item\"><li><span><a href=\"#Progetto-Data-Manipulation-and-Visualization\" data-toc-modified-id=\"Progetto-Data-Manipulation-and-Visualization-1\"><span class=\"toc-item-num\">1&nbsp;&nbsp;</span>Progetto Data Manipulation and Visualization</a></span></li><li><span><a href=\"#Discovery\" data-toc-modified-id=\"Discovery-2\"><span class=\"toc-item-num\">2&nbsp;&nbsp;</span>Discovery</a></span></li><li><span><a href=\"#Data-Selection\" data-toc-modified-id=\"Data-Selection-3\"><span class=\"toc-item-num\">3&nbsp;&nbsp;</span>Data Selection</a></span></li><li><span><a href=\"#Data-Cleaning\" data-toc-modified-id=\"Data-Cleaning-4\"><span class=\"toc-item-num\">4&nbsp;&nbsp;</span>Data Cleaning</a></span></li><li><span><a href=\"#Data-Exploration\" data-toc-modified-id=\"Data-Exploration-5\"><span class=\"toc-item-num\">5&nbsp;&nbsp;</span>Data Exploration</a></span></li><li><span><a href=\"#Data-Trasformation-e-Data-Visualization\" data-toc-modified-id=\"Data-Trasformation-e-Data-Visualization-6\"><span class=\"toc-item-num\">6&nbsp;&nbsp;</span>Data Trasformation e Data Visualization</a></span></li><li><span><a href=\"#Quali-Paesi-producono-di-più?\" data-toc-modified-id=\"Quali-Paesi-producono-di-più?-7\"><span class=\"toc-item-num\">7&nbsp;&nbsp;</span>Quali Paesi producono di più?</a></span></li><li><span><a href=\"#Ma-cosa-viene-prodotto-maggiormente?\" data-toc-modified-id=\"Ma-cosa-viene-prodotto-maggiormente?-8\"><span class=\"toc-item-num\">8&nbsp;&nbsp;</span>Ma cosa viene prodotto maggiormente?</a></span></li><li><span><a href=\"#Ma-quanti-di-questi-prodotti-sono-destinati-al-consumo-umano-e-quanti-destinati-al-mangimi-per-animali?\" data-toc-modified-id=\"Ma-quanti-di-questi-prodotti-sono-destinati-al-consumo-umano-e-quanti-destinati-al-mangimi-per-animali?-9\"><span class=\"toc-item-num\">9&nbsp;&nbsp;</span>Ma quanti di questi prodotti sono destinati al consumo umano e quanti destinati al mangimi per animali?</a></span></li><li><span><a href=\"#Per-quali-alimenti-la-sua-produzione-emette-maggior-emissioni-di-gas-serra?\" data-toc-modified-id=\"Per-quali-alimenti-la-sua-produzione-emette-maggior-emissioni-di-gas-serra?-10\"><span class=\"toc-item-num\">10&nbsp;&nbsp;</span>Per quali alimenti la sua produzione emette maggior emissioni di gas serra?</a></span></li><li><span><a href=\"#Quale-alimento-ha-bisogno-del-maggior-uso-di-terreno?-(per-la-produzione-di-1000kcal)\" data-toc-modified-id=\"Quale-alimento-ha-bisogno-del-maggior-uso-di-terreno?-(per-la-produzione-di-1000kcal)-11\"><span class=\"toc-item-num\">11&nbsp;&nbsp;</span>Quale alimento ha bisogno del maggior uso di terreno? (per la produzione di 1000kcal)</a></span></li><li><span><a href=\"#Quale-alimento-invece-ha-bisogno-del-maggior-uso-di-acqua-dolce?--(per-la-produzione-di-1000kcal)\" data-toc-modified-id=\"Quale-alimento-invece-ha-bisogno-del-maggior-uso-di-acqua-dolce?--(per-la-produzione-di-1000kcal)-12\"><span class=\"toc-item-num\">12&nbsp;&nbsp;</span>Quale alimento invece ha bisogno del maggior uso di acqua dolce?  (per la produzione di 1000kcal)</a></span></li><li><span><a href=\"#Andamento-produzione-della-carne\" data-toc-modified-id=\"Andamento-produzione-della-carne-13\"><span class=\"toc-item-num\">13&nbsp;&nbsp;</span>Andamento produzione della carne</a></span></li><li><span><a href=\"#Una-degli-effetti-causati-dall'emissione-di-gas-serra-è-il-cambiamento-climatico:-come-è-stata-la-sua-variazione-nel-corso-degli-anni?\" data-toc-modified-id=\"Una-degli-effetti-causati-dall'emissione-di-gas-serra-è-il-cambiamento-climatico:-come-è-stata-la-sua-variazione-nel-corso-degli-anni?-14\"><span class=\"toc-item-num\">14&nbsp;&nbsp;</span>Una degli effetti causati dall'emissione di gas serra è il cambiamento climatico: come è stata la sua variazione nel corso degli anni?</a></span></li><li><span><a href=\"#Ma-c'è-una-relazione-tra-la-produzione-di-alimenti-e-la-variazione-climatica?\" data-toc-modified-id=\"Ma-c'è-una-relazione-tra-la-produzione-di-alimenti-e-la-variazione-climatica?-15\"><span class=\"toc-item-num\">15&nbsp;&nbsp;</span>Ma c'è una relazione tra la produzione di alimenti e la variazione climatica?</a></span></li><li><span><a href=\"#Encoding\" data-toc-modified-id=\"Encoding-16\"><span class=\"toc-item-num\">16&nbsp;&nbsp;</span>Encoding</a></span></li><li><span><a href=\"#Scaling\" data-toc-modified-id=\"Scaling-17\"><span class=\"toc-item-num\">17&nbsp;&nbsp;</span>Scaling</a></span></li><li><span><a href=\"#Conclusioni\" data-toc-modified-id=\"Conclusioni-18\"><span class=\"toc-item-num\">18&nbsp;&nbsp;</span>Conclusioni</a></span></li></ul></div>"
   ]
  },
  {
   "cell_type": "markdown",
   "metadata": {},
   "source": [
    "# Progetto Data Manipulation and Visualization\n",
    "\n",
    "# Discovery\n",
    "\n",
    "La Commissione Mondiale sull’Ambiente e lo Sviluppo definisce lo sviluppo sostenibile come lo sviluppo che «soddisfa i bisogni del presente senza compromettere la capacità delle future generazioni di soddisfare i propri».\n",
    "\n",
    "La sostenibilità è un tema centrale che riguarda qualsiasi ambito.\n",
    "\n",
    "Ci soffermeremo sulla sostenibilità alimentare e quindi come la produzione e distribuzione mondiale di alimenti e mangimi impattano sull'ambiente e capire se c'è una relazione tra sostenibilità alimentare e il recente aumento delle temperature (altro tema molto importante)\n",
    "\n",
    "Obiettivo: A partire dai dati inerenti alla produzione e distribuzione mondiale di alimenti e mangimi viene analizzato l'impatto che questi hanno sull'ambiente; e attraverso un altro dataset che riguarda l'aumento delle temperature dei vari Paesi scoprire se ci sono correlazioni."
   ]
  },
  {
   "cell_type": "markdown",
   "metadata": {},
   "source": [
    "# Data Selection"
   ]
  },
  {
   "cell_type": "code",
   "execution_count": 2,
   "metadata": {
    "hide_input": false
   },
   "outputs": [
    {
     "data": {
      "text/html": [
       "        <script type=\"text/javascript\">\n",
       "        window.PlotlyConfig = {MathJaxConfig: 'local'};\n",
       "        if (window.MathJax && window.MathJax.Hub && window.MathJax.Hub.Config) {window.MathJax.Hub.Config({SVG: {font: \"STIX-Web\"}});}\n",
       "        if (typeof require !== 'undefined') {\n",
       "        require.undef(\"plotly\");\n",
       "        requirejs.config({\n",
       "            paths: {\n",
       "                'plotly': ['https://cdn.plot.ly/plotly-2.16.1.min']\n",
       "            }\n",
       "        });\n",
       "        require(['plotly'], function(Plotly) {\n",
       "            window._Plotly = Plotly;\n",
       "        });\n",
       "        }\n",
       "        </script>\n",
       "        "
      ]
     },
     "metadata": {},
     "output_type": "display_data"
    }
   ],
   "source": [
    "#importo i pacchetti di cui ho bisogno\n",
    "import matplotlib.pyplot as plt\n",
    "import pandas as pd\n",
    "import seaborn as sns\n",
    "import os\n",
    "import numpy as np\n",
    "import  plotly.graph_objs as go\n",
    "import plotly.offline as py\n",
    "py.init_notebook_mode(connected=True)\n",
    "import plotly.tools as tls\n",
    "import time\n",
    "import plotly.express as px\n",
    "sns.set()\n",
    "\n",
    "\n",
    "#cambio la directory per scaricare i dataset\n",
    "#os.chdir(r\"C:\\Users\\Win10\\Desktop\")\n",
    "\n",
    "#importo i 2 file csv\n",
    "fao = pd.read_csv('fao.csv', encoding='latin-1')\n",
    "fp = pd.read_csv('Food_Production.csv')\n",
    "tc = pd.read_csv('FAOSTAT_data_3-24-2022.csv')"
   ]
  },
  {
   "cell_type": "markdown",
   "metadata": {},
   "source": [
    "Per questa analisi ci forniamo di 3 dataset:\n",
    "\n",
    "Il primo dataset è messo a disposizione dall’Organizzazione delle Nazioni Unite per l'alimentazione e l'agricoltura e ci fornisce dati su cibo e agricoltura di oltre 245 paesi e territori (facendo una distinzione tra alimenti prodotti per il consumo umano e mangimi prodotti per animali), dall'anno 1961 all'aggiornamento più recente (2013).\n",
    "\n",
    "Il secondo dataset contiene i 43 alimenti più comuni coltivati e 23 colonne che descrivono valori come l’utilizzo dell'acqua ed emissioni di gas serra.\n",
    "\n",
    "Il terzo dataset invece contiene le variazione del cambiamento climatico dei vari Paesi dal 1961 al 2020, anch'esso dell'Organizzazione delle Nazioni Unite per l'alimentazione e l'agricoltura). (https://www.fao.org/faostat/en/#search/temperature%20change)"
   ]
  },
  {
   "cell_type": "markdown",
   "metadata": {},
   "source": [
    "# Data Cleaning"
   ]
  },
  {
   "cell_type": "code",
   "execution_count": null,
   "metadata": {
    "scrolled": false
   },
   "outputs": [],
   "source": [
    "fao.head(3)"
   ]
  },
  {
   "cell_type": "code",
   "execution_count": null,
   "metadata": {},
   "outputs": [],
   "source": [
    "fp.head(3)"
   ]
  },
  {
   "cell_type": "code",
   "execution_count": null,
   "metadata": {},
   "outputs": [],
   "source": [
    "tc.head(3)"
   ]
  },
  {
   "cell_type": "code",
   "execution_count": null,
   "metadata": {},
   "outputs": [],
   "source": [
    "tc.drop(['Domain Code','Element Code','Months Code','Year Code','Flag','Flag Description', 'Unit'],axis=1,inplace=True)"
   ]
  },
  {
   "cell_type": "markdown",
   "metadata": {},
   "source": [
    "# Data Exploration"
   ]
  },
  {
   "cell_type": "code",
   "execution_count": null,
   "metadata": {},
   "outputs": [],
   "source": [
    "fao.info()"
   ]
  },
  {
   "cell_type": "code",
   "execution_count": null,
   "metadata": {},
   "outputs": [],
   "source": [
    "fp.info()"
   ]
  },
  {
   "cell_type": "code",
   "execution_count": null,
   "metadata": {
    "scrolled": true
   },
   "outputs": [],
   "source": [
    "tc.info()"
   ]
  },
  {
   "cell_type": "markdown",
   "metadata": {},
   "source": [
    "Nel Dataset fao ci sono molti valori nulli prima del 2000, quindi faremo l'analisi dal 2000 in poi escludendo gli anni precedenti che potrebbero alterare l'analisi."
   ]
  },
  {
   "cell_type": "markdown",
   "metadata": {},
   "source": [
    "# Data Trasformation e Data Visualization"
   ]
  },
  {
   "cell_type": "markdown",
   "metadata": {},
   "source": [
    "# Quali Paesi producono di più?"
   ]
  },
  {
   "cell_type": "code",
   "execution_count": null,
   "metadata": {},
   "outputs": [],
   "source": [
    "fao['Mean_production_2000-2013']= fao.iloc[:, 49:63].mean(axis=1)\n",
    "\n",
    "countries = np.unique(fao['Area'])\n",
    "\n",
    "mean_production_2000_2013 = []\n",
    "for area in countries:\n",
    "    mean_production_2000_2013.append(fao[fao['Area'] == area]['Mean_production_2000-2013'].mean())"
   ]
  },
  {
   "cell_type": "code",
   "execution_count": null,
   "metadata": {},
   "outputs": [],
   "source": [
    "data = [ dict(\n",
    "        type = 'choropleth',\n",
    "        locations = countries,\n",
    "        z = mean_production_2000_2013,\n",
    "        locationmode = 'country names',\n",
    "        text = countries,\n",
    "        marker = dict(\n",
    "            line = dict(color = 'rgb(0,0,0)', width = 1)),\n",
    "            colorbar = dict(autotick = True, tickprefix = '', \n",
    "            title = '# Produzione media in tonnellate (x1000)')\n",
    "            )\n",
    "       ]\n",
    "\n",
    "layout = dict(\n",
    "    title = 'Produzione media (2000-2013)',\n",
    "    geo = dict(\n",
    "        showframe = False,\n",
    "        showocean = True,\n",
    "        oceancolor = 'rgb(0,100,255)',\n",
    "        projection = dict(\n",
    "        type = 'orthographic',\n",
    "            rotation = dict(\n",
    "                    lon = 60,\n",
    "                    lat = 10),\n",
    "        ),\n",
    "        lonaxis =  dict(\n",
    "                showgrid = True,\n",
    "                gridcolor = 'rgb(102, 102, 102)'\n",
    "            ),\n",
    "        lataxis = dict(\n",
    "                showgrid = True,\n",
    "                gridcolor = 'rgb(102, 102, 102)'\n",
    "                )\n",
    "            ),\n",
    "        )\n",
    "\n",
    "fig = dict(data=data, layout=layout)\n",
    "py.iplot(fig, validate=False, filename='worldmap')"
   ]
  },
  {
   "cell_type": "markdown",
   "metadata": {},
   "source": [
    "Possiamo vedere come la Cina è il maggior produttore di alimenti dal 2000 al 2013, poi abbiamo l'India e come terzo produttore Gli Usa."
   ]
  },
  {
   "cell_type": "markdown",
   "metadata": {},
   "source": [
    "# Ma cosa viene prodotto maggiormente?"
   ]
  },
  {
   "cell_type": "code",
   "execution_count": null,
   "metadata": {
    "hide_input": false,
    "scrolled": false
   },
   "outputs": [],
   "source": [
    "fao_top_item = fao.groupby(['Item'])['Mean_production_2000-2013'].mean()\n",
    "fao_top_item_1 = fao_top_item.reset_index().sort_values(by='Mean_production_2000-2013', ascending=False)\n",
    "\n",
    "plt.figure(figsize=(10,10))\n",
    "sns.barplot(data=fao_top_item_1[:25], x='Mean_production_2000-2013', y='Item')\n",
    "plt.xlabel('Produzione media')\n",
    "plt.ylabel('Alimento')\n",
    "plt.title(\"Top 25 alimenti prodotti nel mondo per quantità prodotta (2000-2013)\", fontsize=15)\n",
    "plt.show()"
   ]
  },
  {
   "cell_type": "markdown",
   "metadata": {},
   "source": [
    "Vediamo come sono i cereali ad essere maggiormente coltivati (2000-2013), seguiti da verdure e latte.\n",
    "\n",
    "Ma nel corso degli anni quali alimenti hanno visto incrementare la loro produzione?"
   ]
  },
  {
   "cell_type": "code",
   "execution_count": null,
   "metadata": {},
   "outputs": [],
   "source": [
    "year_list = list(fao.iloc[:,10:63].columns)\n",
    "\n",
    "item_list = list(fao['Item'].unique())\n",
    "\n",
    "item_df = pd.DataFrame()\n",
    "item_df['Item_Name'] = item_list\n",
    "\n",
    "for yr in year_list:\n",
    "    item_produce = []\n",
    "    for it in item_list:\n",
    "        item_produce.append(fao[yr][fao['Item']==it].sum())\n",
    "    item_df[yr] = item_produce"
   ]
  },
  {
   "cell_type": "code",
   "execution_count": null,
   "metadata": {
    "hide_input": false
   },
   "outputs": [],
   "source": [
    "item_year_df = item_df.set_index('Item_Name')"
   ]
  },
  {
   "cell_type": "code",
   "execution_count": null,
   "metadata": {
    "scrolled": false
   },
   "outputs": [],
   "source": [
    "fig = px.imshow(item_year_df, width=1000, height=1000)\n",
    "fig.update_xaxes(title='Anni')\n",
    "fig.update_yaxes(title='Alimenti')\n",
    "fig.show()"
   ]
  },
  {
   "cell_type": "markdown",
   "metadata": {},
   "source": [
    "Nel corso degli anni ai cereali, uova, verdure, latte, mais e grano è stata incrementata la loro produzione notevolmente."
   ]
  },
  {
   "cell_type": "markdown",
   "metadata": {},
   "source": [
    "# Ma quanti di questi prodotti sono destinati al consumo umano e quanti destinati al mangimi per animali?"
   ]
  },
  {
   "cell_type": "code",
   "execution_count": null,
   "metadata": {
    "hide_input": false
   },
   "outputs": [],
   "source": [
    "fig = px.pie(fao, values='Mean_production_2000-2013', names='Element', title='Produzione di cibo e mangime medio dal 2000 al 2013')\n",
    "fig.show()"
   ]
  },
  {
   "cell_type": "markdown",
   "metadata": {},
   "source": [
    "Il 78,9% della produzione totale è destinato al consumo umano e il 21,1% destinato al mangime."
   ]
  },
  {
   "cell_type": "markdown",
   "metadata": {
    "hide_input": false
   },
   "source": [
    "# Per quali alimenti la sua produzione emette maggior emissioni di gas serra?\n",
    "Le emissioni di gas serra sono calcolati sommando:\n",
    "\n",
    "Modifica dell'uso del suolo - Mangime per animali - Allevamento/Coltivazione - Lavorazione - Trasporto - Imballaggio - Vendita al dettaglio"
   ]
  },
  {
   "cell_type": "code",
   "execution_count": null,
   "metadata": {
    "hide_input": false
   },
   "outputs": [],
   "source": [
    "fp_emissions = fp.dropna().sort_values(by='Total_emissions', ascending = True).iloc[:,:8]\n",
    "\n",
    "fig, ax = plt.subplots(figsize=(10,10))\n",
    "fp_emissions.set_index('Food product').plot(kind='barh', stacked=True, ax= ax)\n",
    "plt.title('Emissioni di gas serra per alimento prodotto', fontsize=15)\n",
    "plt.xlabel(\"Emissioni di gas serra\")\n",
    "plt.ylabel(\"Alimento prodotto\")\n",
    "plt.show()"
   ]
  },
  {
   "cell_type": "markdown",
   "metadata": {},
   "source": [
    "È l'allevamento di manzo, seguita da agnello e montone e produzione di formaggio ad emettere maggior emissioni di gas serra.\n",
    "Causa principale dell'emissione di gas serra come si può vedere dal grafico è la farm (colore verde) e dall'uso di terre(colore blu)."
   ]
  },
  {
   "cell_type": "markdown",
   "metadata": {},
   "source": [
    "# Quale alimento ha bisogno del maggior uso di terreno? (per la produzione di 1000kcal)"
   ]
  },
  {
   "cell_type": "code",
   "execution_count": null,
   "metadata": {
    "hide_input": true
   },
   "outputs": [],
   "source": [
    "fp_land = fp.dropna().sort_values(by= 'Land use per 1000kcal (m² per 1000kcal)', ascending=False)[['Food product','Land use per 1000kcal (m² per 1000kcal)']]\n",
    "\n",
    "plt.figure(figsize=(10,10))\n",
    "plt.title('Uso di terreno per 1000kcal', fontsize=15)\n",
    "sns.barplot(data=fp_land, x='Land use per 1000kcal (m² per 1000kcal)', y='Food product', palette = 'copper_r')\n",
    "plt.ylabel('Alimento prodotto')\n",
    "plt.xlabel('Uso di terreno per 1000kcal (m² per 1000kcal)')"
   ]
  },
  {
   "cell_type": "markdown",
   "metadata": {},
   "source": [
    "L'allevamento di manzo, agnello e montone ha bisogno di grande quantità di terreno (3 volte di più del terzo alimento che è il caffè). La conversione dell'uso di queste terre dove si allevano manzo, agnello e montone potrebbe aumentare di moltissimo la produzione degli altri alimenti. "
   ]
  },
  {
   "cell_type": "markdown",
   "metadata": {},
   "source": [
    "# Quale alimento invece ha bisogno del maggior uso di acqua dolce?  (per la produzione di 1000kcal)"
   ]
  },
  {
   "cell_type": "code",
   "execution_count": null,
   "metadata": {
    "hide_input": true
   },
   "outputs": [],
   "source": [
    "fp_water = fp.dropna().sort_values(by= 'Freshwater withdrawals per 1000kcal (liters per 1000kcal)', ascending=False)[['Food product','Freshwater withdrawals per 1000kcal (liters per 1000kcal)']]\n",
    "\n",
    "plt.figure(figsize=(10,10))\n",
    "plt.title('Uso di acqua dolce per 1000kcal (litri per 1000kcal)', fontsize=15)\n",
    "sns.barplot(data=fp_water, x='Freshwater withdrawals per 1000kcal (liters per 1000kcal)', y='Food product', palette = 'winter_r')\n",
    "plt.ylabel('Alimento prodotto')\n",
    "plt.xlabel('Prelievi di acqua dolce per 1000kcal (litri per 1000kcal)')"
   ]
  },
  {
   "cell_type": "markdown",
   "metadata": {},
   "source": [
    "In questo caso invece sono pesce, pomodori e formaggio ad aver bisogno di maggior uso di acqua per la loro produzione."
   ]
  },
  {
   "cell_type": "markdown",
   "metadata": {},
   "source": [
    "# Andamento produzione della carne"
   ]
  },
  {
   "cell_type": "markdown",
   "metadata": {},
   "source": [
    "Abbiamo quindi notato che la produzione di carne emette maggior emissioni di gas serra, ma la sua produzione è in diminuzione nel corso degli anni? "
   ]
  },
  {
   "cell_type": "code",
   "execution_count": null,
   "metadata": {},
   "outputs": [],
   "source": [
    "meat_tf = item_df.loc[(item_df.Item_Name == 'Meat')]\n",
    "meat_tff = meat_tf.set_index('Item_Name')"
   ]
  },
  {
   "cell_type": "code",
   "execution_count": null,
   "metadata": {},
   "outputs": [],
   "source": [
    "fig = px.imshow(meat_tff, width=1000, height=400)\n",
    "fig.update_xaxes(title='Anni')\n",
    "fig.update_yaxes(title='Alimenti')\n",
    "fig.show()"
   ]
  },
  {
   "cell_type": "markdown",
   "metadata": {},
   "source": [
    "La produzione della carne è in continuo aumento e si registra un'aumento di quasi il 50% negli ultimi 20 anni."
   ]
  },
  {
   "cell_type": "markdown",
   "metadata": {},
   "source": [
    "# Una degli effetti causati dall'emissione di gas serra è il cambiamento climatico: come è stata la sua variazione nel corso degli anni?"
   ]
  },
  {
   "cell_type": "code",
   "execution_count": null,
   "metadata": {},
   "outputs": [],
   "source": [
    "tc0 = tc[tc['Months'] == 'Meteorological year']\n",
    "tc_2000 = tc0.loc[tc0.Year >= 2000]\n",
    "\n",
    "countries_tc = np.unique(tc_2000['Area'])\n",
    "\n",
    "mean_temp = []\n",
    "for area in countries_tc:\n",
    "    mean_temp.append(tc_2000[tc_2000['Area'] == area]['Value'].mean())"
   ]
  },
  {
   "cell_type": "code",
   "execution_count": null,
   "metadata": {
    "scrolled": false
   },
   "outputs": [],
   "source": [
    "data = [ dict(\n",
    "        type = 'choropleth',\n",
    "        locations = countries_tc,\n",
    "        z = mean_temp,\n",
    "        locationmode = 'country names',\n",
    "        text = countries_tc,\n",
    "        marker = dict(\n",
    "            line = dict(color = 'rgb(0,0,0)', width = 1)),\n",
    "            colorbar = dict(autotick = True, tickprefix = '', \n",
    "            title = '# Temperatura\\nMedia,\\n°C')\n",
    "            )\n",
    "       ]\n",
    "\n",
    "layout = dict(\n",
    "    title = 'Variazione climatica media dal 2000 al 2020',\n",
    "    geo = dict(\n",
    "        showframe = False,\n",
    "        showocean = True,\n",
    "        oceancolor = 'rgb(0,255,255)',\n",
    "        projection = dict(\n",
    "        type = 'orthographic',\n",
    "            rotation = dict(\n",
    "                    lon = 60,\n",
    "                    lat = 10),\n",
    "        ),\n",
    "        lonaxis =  dict(\n",
    "                showgrid = True,\n",
    "                gridcolor = 'rgb(102, 102, 102)'\n",
    "            ),\n",
    "        lataxis = dict(\n",
    "                showgrid = True,\n",
    "                gridcolor = 'rgb(102, 102, 102)'\n",
    "                )\n",
    "            ),\n",
    "        )\n",
    "\n",
    "fig = dict(data=data, layout=layout)\n",
    "py.iplot(fig, validate=False, filename='worldmap')"
   ]
  },
  {
   "cell_type": "markdown",
   "metadata": {},
   "source": [
    "Sembra che i sono i paesi dell'Europa centro-orientale ad aver avuto le maggiori percentuali di variazioni, in particolare la Biolorussia, Slovenia, Russia, Estonia.\n",
    "Invece i paesi che producono maggiormente alimenti come la Cina, l'India e gli Usa non sono tra i paesi che hanno avuto maggiori percentuali di variazioni."
   ]
  },
  {
   "cell_type": "code",
   "execution_count": null,
   "metadata": {
    "scrolled": false
   },
   "outputs": [],
   "source": [
    "tc0 = tc[tc['Months'] == 'Meteorological year'] \n",
    "tc1 = tc0[tc0['Area'] == 'World'] \n",
    "tc2 = tc0[tc0['Area'] == 'China'] \n",
    "tc3 = tc0[tc0['Area'] == 'India'] \n",
    "tc4 = tc0[tc0['Area'] == 'United States of America']\n",
    "\n",
    "fig = go.Figure()\n",
    " \n",
    "fig.add_trace(go.Scatter(x = tc1.Year, y=tc1.Value,\n",
    "                    mode='markers',\n",
    "                    name='World'))\n",
    "\n",
    "fig.add_trace(go.Scatter(x = tc2.Year , y=tc2.Value,\n",
    "                    mode='lines',\n",
    "                    name='China'))\n",
    "            \n",
    "fig.add_trace(go.Scatter(x = tc3.Year , y=tc3.Value,\n",
    "                    mode='lines', name='india'))\n",
    "\n",
    "fig.add_trace(go.Scatter(x = tc4.Year , y=tc4.Value,\n",
    "                    mode='lines', name='United States of America'))\n",
    "\n",
    "\n",
    "fig.update_layout(\n",
    "    title='Variazione climatica dal 1961 dei top 3 produttori di alimenti',\n",
    "    autosize=False,\n",
    "    width=1000,\n",
    "    height=600,\n",
    "    margin=dict(\n",
    "        l=50,\n",
    "        r=50,\n",
    "        b=100,\n",
    "        t=100,\n",
    "        pad=4\n",
    "    ),\n",
    "    \n",
    "    template='seaborn',\n",
    "    paper_bgcolor=\"rgb(234, 234, 242)\",\n",
    "    legend=dict(\n",
    "        orientation=\"h\",\n",
    "        yanchor=\"bottom\",\n",
    "        y=1.02,\n",
    "        xanchor=\"right\",\n",
    "        x=1\n",
    "))\n",
    "\n",
    "fig.update_xaxes(type='category',title='Anni')\n",
    "fig.update_yaxes(title='Cambiamento climatico')\n",
    "\n",
    "\n",
    "fig.show()"
   ]
  },
  {
   "cell_type": "markdown",
   "metadata": {},
   "source": [
    "Come si può vedere dal grafico, negli ultimi 2 decenni c'è stata la maggior variazione percentuale di cambiamento climatico e questo è molto preoccupante, il trend sembra essere crescente."
   ]
  },
  {
   "cell_type": "markdown",
   "metadata": {},
   "source": [
    "# Ma c'è una relazione tra la produzione di alimenti e la variazione climatica?"
   ]
  },
  {
   "cell_type": "markdown",
   "metadata": {},
   "source": [
    "Creo un nuovo dataset modificando il dataset FAO prendendo le variabili anni e trasportarle come indice, mentre i paesi come variabili."
   ]
  },
  {
   "cell_type": "code",
   "execution_count": null,
   "metadata": {},
   "outputs": [],
   "source": [
    "year_list = list(fao.iloc[:,10:].columns)\n",
    "\n",
    "df_new = fao.pivot_table(values=year_list,columns = 'Element', index=['Area'], aggfunc='sum') \n",
    "df_fao = df_new.T\n",
    "df_food = df_fao.xs('Food', level=1, axis=0)"
   ]
  },
  {
   "cell_type": "code",
   "execution_count": null,
   "metadata": {
    "scrolled": true
   },
   "outputs": [],
   "source": [
    "df_food['Mean']= df_food.loc[:, 'Afghanistan':'Zimbabwe'].mean(axis=1)\n",
    "df_food = df_food.reset_index()\n",
    "\n",
    "df_food_1 = df_food.rename(columns={'index': 'Year'})\n",
    "\n",
    "df_food_3 = df_food_1.set_index(\"Year\", inplace=True)"
   ]
  },
  {
   "cell_type": "code",
   "execution_count": null,
   "metadata": {},
   "outputs": [],
   "source": [
    "df_food_new = df_food_1.rename(index={'Y1961': '1961', 'Y1962': '1962', 'Y1963': '1963', 'Y1964': '1964', \n",
    "                                    'Y1965': '1965', 'Y1966': '1966', 'Y1967': '1967', 'Y1968': '1968',\n",
    "                                    'Y1969': '1969', 'Y1970': '1970', 'Y1971': '1971', 'Y1972': '1972',\n",
    "                                    'Y1973': '1973', 'Y1974': '1974', 'Y1975': '1975', 'Y1976': '1976',\n",
    "                                    'Y1978': '1978', 'Y1980': '1980', 'Y1981': '1981', 'Y1982': '1982',\n",
    "                                    'Y1983': '1983', 'Y1984': '1984', 'Y1985': '1985', 'Y1986': '1986',\n",
    "                                    'Y1987': '1987', 'Y1977': '1977', 'Y1979': '1979', 'Y1988': '1988',\n",
    "                                    'Y1989': '1989', 'Y1990': '1990', 'Y1991': '1991', 'Y1992': '1992',\n",
    "                                    'Y1993': '1993', 'Y1994': '1994', 'Y1995': '1995', 'Y1996': '1996',\n",
    "                                    'Y1997': '1997', 'Y1998': '1998', 'Y1999': '1999', 'Y2000': '2000',\n",
    "                                    'Y2001': '2001', 'Y2002': '2002', 'Y2003': '2003', 'Y2004': '2004',\n",
    "                                    'Y2005': '2005', 'Y2006': '2006', 'Y2007': '2007', 'Y2008': '2008',\n",
    "                                    'Y2009': '2009', 'Y2010': '2010', 'Y2011': '2011', 'Y2012': '2012',\n",
    "                                    'Y2013': '2013'})"
   ]
  },
  {
   "cell_type": "code",
   "execution_count": null,
   "metadata": {},
   "outputs": [],
   "source": [
    "df_food_new = df_food_new.iloc[1: , :]"
   ]
  },
  {
   "cell_type": "code",
   "execution_count": null,
   "metadata": {},
   "outputs": [],
   "source": [
    "df_food_new_1 = df_food_new.reset_index()\n",
    "\n",
    "df_food_new_1[\"Year\"] = df_food_new_1[\"Year\"].astype(str).astype(int)\n",
    "\n",
    "tc_year = tc0.groupby(['Year'])['Value'].mean()\n",
    "tc_1 = tc_year.reset_index()"
   ]
  },
  {
   "cell_type": "code",
   "execution_count": null,
   "metadata": {},
   "outputs": [],
   "source": [
    "fao_tc = pd.merge(df_food_new_1, tc_1, how='outer', on='Year')\n",
    "\n",
    "fao_tc = fao_tc.dropna()\n",
    "fao_tc.set_index(\"Year\", inplace=True)"
   ]
  },
  {
   "cell_type": "code",
   "execution_count": null,
   "metadata": {},
   "outputs": [],
   "source": [
    "sns.lmplot(x=\"Mean\", y=\"Value\", data=fao_tc)\n",
    "plt.title ('Correlazione tra Produzione media degli alimenti e Variazione del cambiamento climatico medio (1961-2013)')"
   ]
  },
  {
   "cell_type": "code",
   "execution_count": null,
   "metadata": {},
   "outputs": [],
   "source": [
    "fao_tc_1 = fao_tc.iloc[:, -2:]\n",
    "\n",
    "fao_tc_1.corr()"
   ]
  },
  {
   "cell_type": "markdown",
   "metadata": {},
   "source": [
    "La correlazione tra Produzione media degli alimenti e Variazione del cambiamento climatico medio (1961-2013) è 0.92 che è molto vicino ad 1, quindi sembra esserci correlazione positiva tra l'aumento della produzione media degli alimenti con la variazione del cambiamento climatico."
   ]
  },
  {
   "cell_type": "markdown",
   "metadata": {},
   "source": [
    "**Data Cleaning - parte 2 - preparazione al modello**"
   ]
  },
  {
   "cell_type": "code",
   "execution_count": null,
   "metadata": {
    "scrolled": true
   },
   "outputs": [],
   "source": [
    "#pulizia dataset FAO\n",
    "df = pd.melt(fao, id_vars=fao.columns[:10], value_vars=fao.columns[10:63],var_name = 'Year',value_name='Production')\n",
    "df['Year'] = df['Year'].apply(lambda x: int(x[1:]))\n",
    "df"
   ]
  },
  {
   "cell_type": "code",
   "execution_count": null,
   "metadata": {
    "scrolled": true
   },
   "outputs": [],
   "source": [
    "fp"
   ]
  },
  {
   "cell_type": "code",
   "execution_count": null,
   "metadata": {},
   "outputs": [],
   "source": [
    "df_kg = fp[['Food product','Total_emissions','Eutrophying emissions per kilogram (gPO₄eq per kilogram)','Freshwater withdrawals per kilogram (liters per kilogram)','Land use per kilogram (m² per kilogram)','Scarcity-weighted water use per kilogram (liters per kilogram)']]\n",
    "df_kg.set_index('Food product',inplace=True)\n",
    "\n",
    "#pulizia dataframe\n",
    "fp.fillna(0,inplace=True)\n",
    "fp.set_index('Food product',inplace=True)\n",
    "df_stage = fp.apply(lambda x: round(x,2))\n",
    "df_stage = fp[['Land use change', 'Animal Feed', 'Farm', 'Processing', 'Transport',\n",
    "       'Packging', 'Retail', 'Total_emissions']]\n"
   ]
  },
  {
   "cell_type": "code",
   "execution_count": null,
   "metadata": {
    "scrolled": true
   },
   "outputs": [],
   "source": [
    "df_stage"
   ]
  },
  {
   "cell_type": "markdown",
   "metadata": {},
   "source": [
    "# Scaling"
   ]
  },
  {
   "cell_type": "code",
   "execution_count": null,
   "metadata": {},
   "outputs": [],
   "source": [
    "from sklearn.preprocessing import RobustScaler\n",
    "\n",
    "df_stage_sc = RobustScaler().fit_transform(df_stage)"
   ]
  },
  {
   "cell_type": "code",
   "execution_count": null,
   "metadata": {
    "scrolled": true
   },
   "outputs": [],
   "source": [
    "df_stage_sc"
   ]
  }
 ],
 "metadata": {
  "kernelspec": {
   "display_name": "Python 3",
   "language": "python",
   "name": "python3"
  },
  "language_info": {
   "codemirror_mode": {
    "name": "ipython",
    "version": 3
   },
   "file_extension": ".py",
   "mimetype": "text/x-python",
   "name": "python",
   "nbconvert_exporter": "python",
   "pygments_lexer": "ipython3",
   "version": "3.8.5"
  },
  "toc": {
   "base_numbering": 1,
   "nav_menu": {},
   "number_sections": true,
   "sideBar": true,
   "skip_h1_title": false,
   "title_cell": "Table of Contents",
   "title_sidebar": "Contents",
   "toc_cell": true,
   "toc_position": {
    "height": "calc(100% - 180px)",
    "left": "10px",
    "top": "150px",
    "width": "165px"
   },
   "toc_section_display": true,
   "toc_window_display": true
  }
 },
 "nbformat": 4,
 "nbformat_minor": 5
}
