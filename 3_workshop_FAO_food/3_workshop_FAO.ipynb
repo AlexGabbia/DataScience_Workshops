{
 "cells": [
  {
   "cell_type": "markdown",
   "metadata": {
    "toc": true
   },
   "source": [
    "<h1>Table of Contents<span class=\"tocSkip\"></span></h1>\n",
    "<div class=\"toc\"><ul class=\"toc-item\"></ul></div>"
   ]
  },
  {
   "attachments": {},
   "cell_type": "markdown",
   "metadata": {},
   "source": [
    "**CONTESTO:**\n",
    "Si prevede che la nostra popolazione mondiale crescerà dai 7,3 miliardi di oggi a 9,7 miliardi nell'anno 2050. Trovare soluzioni per nutrire la popolazione mondiale in crescita è diventato un tema scottante per le organizzazioni, gli imprenditori e i filantropi dell'agricoltura e dell'alimentazione.\n",
    "\n",
    "Queste soluzioni vanno dal cambiamento del modo in cui coltiviamo e alleviamo il nostro cibo al cambiamento del modo in cui mangiamo. \n",
    "Per rendere le cose più difficili, il clima della Terra sta cambiando ed è influenzato dall'agricoltura. Poiché la popolazione mondiale si è espansa e si è arricchita, la domanda di cibo, energia e acqua ha visto un rapido aumento.\n",
    "Non solo è aumentata la domanda per tutti e tre, ma sono anche fortemente interconnessi: la produzione alimentare richiede acqua ed energia; la produzione energetica tradizionale richiede risorse idriche; l'agricoltura fornisce una potenziale fonte di energia e tanta acqua. \n",
    " \n",
    " \n",
    "**OBIETTIVO:** \n",
    "A partire dai dati inerenti alla produzione e distribuzione mondiale di alimenti e mangimi si analizzi l'impatto negativo che questi hanno sull'ambiente. Una volta terminata l'EDA, utilizza i metodi di scaling ed encoding visti a lezione per preparare al meglio il dataset per un ipotetico modello predittivo ( vedi data preprocessing ) :\n",
    "\n",
    "qui di seguito alcune domande per ispirarti\n",
    "\n",
    "- quali sono i 5 alimenti e mangimi che hanno l'impatto peggiore sull'ambiente ?\n",
    "- qual è il paese che nel tempo è più riuscito a diminuire l'impatto negativo della propria produzione e distribuzione di alimenti e mangimi?\n",
    "\n",
    "\n",
    "**Dati a disposizione:**\n",
    "\n",
    "- A questo link (https://www.kaggle.com/datasets/dorbicycle/world-foodfeed-production), sul sito di Kaggle, trovi il primo dataset utile che fornisce una panoramica della nostra produzione alimentare mondiale, concentrandosi su un confronto tra alimenti prodotti per il consumo umano e mangimi prodotti per animali.\n",
    "\n",
    "- Il csv nominato 'FAOSTAT_data_3-24-2022' contiene le variazione del cambiamento climatico dei vari Paesi dal 1961 al 2020. \n",
    "\n",
    "- Mentre il secondo dataset utile presente a questo link (https://www.kaggle.com/selfvivek/environment-impact-of-food-production) contiene i 43 alimenti più comuni coltivati ​​in tutto il mondo e 23 colonne che descrivono valori come l’utilizzo dell'acqua ed emissioni di gas serra."
   ]
  }
 ],
 "metadata": {
  "kernelspec": {
   "display_name": "Python 3",
   "language": "python",
   "name": "python3"
  },
  "language_info": {
   "codemirror_mode": {
    "name": "ipython",
    "version": 3
   },
   "file_extension": ".py",
   "mimetype": "text/x-python",
   "name": "python",
   "nbconvert_exporter": "python",
   "pygments_lexer": "ipython3",
   "version": "3.11.1"
  },
  "toc": {
   "base_numbering": 1,
   "nav_menu": {},
   "number_sections": true,
   "sideBar": true,
   "skip_h1_title": false,
   "title_cell": "Table of Contents",
   "title_sidebar": "Contents",
   "toc_cell": true,
   "toc_position": {},
   "toc_section_display": true,
   "toc_window_display": true
  }
 },
 "nbformat": 4,
 "nbformat_minor": 4
}
