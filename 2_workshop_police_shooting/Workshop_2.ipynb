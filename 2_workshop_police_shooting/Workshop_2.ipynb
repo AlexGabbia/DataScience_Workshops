{
 "cells": [
  {
   "cell_type": "markdown",
   "metadata": {
    "toc": true
   },
   "source": [
    "<h1>Table of Contents<span class=\"tocSkip\"></span></h1>\n",
    "<div class=\"toc\"><ul class=\"toc-item\"></ul></div>"
   ]
  },
  {
   "cell_type": "markdown",
   "metadata": {},
   "source": [
    "\n",
    "**CONTESTO:** *Fatal Police Shooting in the US*\n",
    "\n",
    "L’omicidio del 2014 di Michael Brown a Ferguson, Missouri, ha dato origine a una protesta culminata nel movimento Black Lives Matter e al crescente interesse dell’opinione pubblica sull’affidabilità e il razzismo delle forze di polizia negli Stati Uniti.\n",
    "\n",
    "Il Washington Post compila, da gennaio 2015, un database di tutti i casi di omicidio (da arma da fuoco) da parte della polizia negli Stati Uniti. A questo link (https://www.kaggle.com/kwullum/fatal-police-shootings-in-the-us) trovi un dataset pubblico di Kaggle che riporta, oltre a quello del Post, altri quattro database di informazioni demografiche. Il dataset di Kaggle si riferisce al periodo 2015-2016: a questo link (https://github.com/washingtonpost/data-police-shootings) trovi il database del Post aggiornato.\n",
    "\n",
    "Infine, ecco un database (https://drive.google.com/file/d/1kEikaWCZYVO3ygVvAuVqxYqQPaVJrdYb/view) con la popolazione delle città USA."
   ]
  },
  {
   "cell_type": "markdown",
   "metadata": {},
   "source": [
    "**OBIETTIVO:** Analizzerai i dati inerenti ai casi di omicidio (da arma da fuoco) da parte della polizia negli Stati Uniti con lo scopo di evidenziare possibili bias razziali da parte della polizia.\n",
    "\n",
    "A partire dai dati forniti ti sembra che la polizia americana uccida spoporzionatamente persone appartenenti ad un dato gruppo\n",
    "prensente nella colonna 'race'?\n",
    "\n",
    "**NOTA BENE:** Il lavoro va consegnato tenendo a mente che il notebook di Jupyter deve essere simile ad una presentazione da mostrare ad un ipotetico cliente: evitare notebook che siano troppo prolissi e ripetitivi nelle analisi. Scegliere cosa mostrare e perché mostrare quel concetto rispetto ad un altro è una delle capacità da sviluppare per questo workshop"
   ]
  }
 ],
 "metadata": {
  "kernelspec": {
   "display_name": "Python 3",
   "language": "python",
   "name": "python3"
  },
  "language_info": {
   "codemirror_mode": {
    "name": "ipython",
    "version": 3
   },
   "file_extension": ".py",
   "mimetype": "text/x-python",
   "name": "python",
   "nbconvert_exporter": "python",
   "pygments_lexer": "ipython3",
   "version": "3.8.3"
  },
  "toc": {
   "base_numbering": 1,
   "nav_menu": {},
   "number_sections": true,
   "sideBar": true,
   "skip_h1_title": false,
   "title_cell": "Table of Contents",
   "title_sidebar": "Contents",
   "toc_cell": true,
   "toc_position": {},
   "toc_section_display": true,
   "toc_window_display": true
  }
 },
 "nbformat": 4,
 "nbformat_minor": 4
}
