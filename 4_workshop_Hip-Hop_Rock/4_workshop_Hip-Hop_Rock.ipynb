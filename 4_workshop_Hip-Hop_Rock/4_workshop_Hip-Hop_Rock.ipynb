{
 "cells": [
  {
   "cell_type": "markdown",
   "metadata": {
    "toc": true
   },
   "source": [
    "<h1>Table of Contents<span class=\"tocSkip\"></span></h1>\n",
    "<div class=\"toc\"><ul class=\"toc-item\"></ul></div>"
   ]
  },
  {
   "cell_type": "markdown",
   "metadata": {},
   "source": [
    "**CONTESTO:** Rock o Hip-Hop? Applica metodi di machine learning per classificare i brani in generi musicali, senza doverli ascoltare :) \n",
    "\n",
    "**OBIETTIVO:** \n",
    "\n",
    "Utilizzando un set di dati composto da brani di due generi musicali (Hip-Hop e Rock), addestrerai un classificatore per distinguere tra i due generi in base solo alle informazioni sui brani derivate dai dati che hai a disposizione. Per prima cosa utilizzerai Pandas per analizzare i dati, aggregare informazioni e creare grafici con Seaborn o MatplotLib.\n",
    "\n",
    "Successivamente, utilizzerai la libreria scikit-learn per prevedere se puoi classificare correttamente il genere di una canzone in base a caratteristiche come energia, acustica, tempo, ballabilità etc..\n",
    "\n",
    "\n",
    "**Dati a disposizione:**\n",
    "\n",
    "Qui puoi trovare due fonti dati, uno in formato csv e l'altro in formato json.\n",
    "\n",
    "https://drive.google.com/drive/folders/1vPd0qBCpWm_QEXM5NRynNrs72-pUuhSn?usp=sharing"
   ]
  },
  {
   "cell_type": "code",
   "execution_count": 1,
   "metadata": {},
   "outputs": [],
   "source": [
    "import pandas as pd\n",
    "import numpy as np\n",
    "import matplotlib.pyplot as plt\n",
    "import seaborn as sns\n",
    "import warnings\n",
    "\n",
    "warnings.filterwarnings('ignore')"
   ]
  },
  {
   "cell_type": "code",
   "execution_count": 2,
   "metadata": {},
   "outputs": [],
   "source": [
    "data_1 = pd.read_json(\"Dati/metrics.json\")\n",
    "data_j = pd.read_csv(\"Dati/dataset.csv\")"
   ]
  },
  {
   "cell_type": "code",
   "execution_count": 3,
   "metadata": {},
   "outputs": [
    {
     "name": "stdout",
     "output_type": "stream",
     "text": [
      "<class 'pandas.core.frame.DataFrame'>\n",
      "RangeIndex: 17734 entries, 0 to 17733\n",
      "Data columns (total 21 columns):\n",
      " #   Column         Non-Null Count  Dtype \n",
      "---  ------         --------------  ----- \n",
      " 0   track_id       17734 non-null  int64 \n",
      " 1   bit_rate       17734 non-null  int64 \n",
      " 2   comments       17734 non-null  int64 \n",
      " 3   composer       166 non-null    object\n",
      " 4   date_created   17734 non-null  object\n",
      " 5   date_recorded  1898 non-null   object\n",
      " 6   duration       17734 non-null  int64 \n",
      " 7   favorites      17734 non-null  int64 \n",
      " 8   genre_top      17734 non-null  object\n",
      " 9   genres         17734 non-null  object\n",
      " 10  genres_all     17734 non-null  object\n",
      " 11  information    482 non-null    object\n",
      " 12  interest       17734 non-null  int64 \n",
      " 13  language_code  4089 non-null   object\n",
      " 14  license        17714 non-null  object\n",
      " 15  listens        17734 non-null  int64 \n",
      " 16  lyricist       53 non-null     object\n",
      " 17  number         17734 non-null  int64 \n",
      " 18  publisher      52 non-null     object\n",
      " 19  tags           17734 non-null  object\n",
      " 20  title          17734 non-null  object\n",
      "dtypes: int64(8), object(13)\n",
      "memory usage: 2.8+ MB\n"
     ]
    }
   ],
   "source": [
    "data_1.describe()\n",
    "data_j.info()"
   ]
  },
  {
   "cell_type": "code",
   "execution_count": 4,
   "metadata": {},
   "outputs": [],
   "source": [
    "count_track_id = data_j['genres'].value_counts()\n",
    "count_genres = data_j['genres'].value_counts()"
   ]
  },
  {
   "cell_type": "code",
   "execution_count": 5,
   "metadata": {},
   "outputs": [],
   "source": [
    "data = pd.merge(data_j, data_1, how= 'inner', on='track_id')"
   ]
  },
  {
   "cell_type": "code",
   "execution_count": 6,
   "metadata": {},
   "outputs": [],
   "source": [
    "def eda_plot_counts(df):\n",
    "    \n",
    "    for column_name in df.columns:\n",
    "        fig, ax = plt.subplots()\n",
    "        df[column_name].value_counts().plot(ax=ax, kind='bar')\n",
    "        ax.set_title(column_name)\n",
    "    #fig.savefig(f'{column_name}_count_plot.png')\n",
    "    #plt.close(fig)\n",
    "    plt.show()"
   ]
  },
  {
   "cell_type": "code",
   "execution_count": 7,
   "metadata": {},
   "outputs": [
    {
     "data": {
      "text/html": [
       "<div>\n",
       "<style scoped>\n",
       "    .dataframe tbody tr th:only-of-type {\n",
       "        vertical-align: middle;\n",
       "    }\n",
       "\n",
       "    .dataframe tbody tr th {\n",
       "        vertical-align: top;\n",
       "    }\n",
       "\n",
       "    .dataframe thead th {\n",
       "        text-align: right;\n",
       "    }\n",
       "</style>\n",
       "<table border=\"1\" class=\"dataframe\">\n",
       "  <thead>\n",
       "    <tr style=\"text-align: right;\">\n",
       "      <th></th>\n",
       "      <th>track_id</th>\n",
       "      <th>bit_rate</th>\n",
       "      <th>comments</th>\n",
       "      <th>composer</th>\n",
       "      <th>date_created</th>\n",
       "      <th>date_recorded</th>\n",
       "      <th>duration</th>\n",
       "      <th>favorites</th>\n",
       "      <th>genre_top</th>\n",
       "      <th>genres</th>\n",
       "      <th>...</th>\n",
       "      <th>tags</th>\n",
       "      <th>title</th>\n",
       "      <th>acousticness</th>\n",
       "      <th>danceability</th>\n",
       "      <th>energy</th>\n",
       "      <th>instrumentalness</th>\n",
       "      <th>liveness</th>\n",
       "      <th>speechiness</th>\n",
       "      <th>tempo</th>\n",
       "      <th>valence</th>\n",
       "    </tr>\n",
       "  </thead>\n",
       "  <tbody>\n",
       "    <tr>\n",
       "      <th>0</th>\n",
       "      <td>153</td>\n",
       "      <td>256000</td>\n",
       "      <td>0</td>\n",
       "      <td>Arc and Sender</td>\n",
       "      <td>2008-11-26 01:45:00</td>\n",
       "      <td>2008-11-26 00:00:00</td>\n",
       "      <td>405</td>\n",
       "      <td>5</td>\n",
       "      <td>Rock</td>\n",
       "      <td>[26]</td>\n",
       "      <td>...</td>\n",
       "      <td>[]</td>\n",
       "      <td>Hundred-Year Flood</td>\n",
       "      <td>0.988306</td>\n",
       "      <td>0.255661</td>\n",
       "      <td>0.979774</td>\n",
       "      <td>0.973006</td>\n",
       "      <td>0.121342</td>\n",
       "      <td>0.051740</td>\n",
       "      <td>90.241</td>\n",
       "      <td>0.034018</td>\n",
       "    </tr>\n",
       "    <tr>\n",
       "      <th>1</th>\n",
       "      <td>154</td>\n",
       "      <td>256000</td>\n",
       "      <td>0</td>\n",
       "      <td>Arc and Sender</td>\n",
       "      <td>2008-11-26 01:45:04</td>\n",
       "      <td>2008-11-26 00:00:00</td>\n",
       "      <td>319</td>\n",
       "      <td>1</td>\n",
       "      <td>Rock</td>\n",
       "      <td>[26]</td>\n",
       "      <td>...</td>\n",
       "      <td>[]</td>\n",
       "      <td>Squares And Circles</td>\n",
       "      <td>0.970135</td>\n",
       "      <td>0.352946</td>\n",
       "      <td>0.023852</td>\n",
       "      <td>0.957113</td>\n",
       "      <td>0.113261</td>\n",
       "      <td>0.032177</td>\n",
       "      <td>53.758</td>\n",
       "      <td>0.035632</td>\n",
       "    </tr>\n",
       "    <tr>\n",
       "      <th>2</th>\n",
       "      <td>155</td>\n",
       "      <td>192000</td>\n",
       "      <td>0</td>\n",
       "      <td>NaN</td>\n",
       "      <td>2008-11-26 01:45:10</td>\n",
       "      <td>2008-11-26 00:00:00</td>\n",
       "      <td>756</td>\n",
       "      <td>1</td>\n",
       "      <td>Rock</td>\n",
       "      <td>[26]</td>\n",
       "      <td>...</td>\n",
       "      <td>[]</td>\n",
       "      <td>Maps of the Stars Homes</td>\n",
       "      <td>0.981657</td>\n",
       "      <td>0.142249</td>\n",
       "      <td>0.912122</td>\n",
       "      <td>0.967294</td>\n",
       "      <td>0.363510</td>\n",
       "      <td>0.087527</td>\n",
       "      <td>91.912</td>\n",
       "      <td>0.034325</td>\n",
       "    </tr>\n",
       "    <tr>\n",
       "      <th>3</th>\n",
       "      <td>169</td>\n",
       "      <td>192000</td>\n",
       "      <td>0</td>\n",
       "      <td>James Squeaky</td>\n",
       "      <td>2008-11-26 01:46:02</td>\n",
       "      <td>2006-01-01 00:00:00</td>\n",
       "      <td>144</td>\n",
       "      <td>1</td>\n",
       "      <td>Rock</td>\n",
       "      <td>[25]</td>\n",
       "      <td>...</td>\n",
       "      <td>[]</td>\n",
       "      <td>Boss of Goth</td>\n",
       "      <td>0.989141</td>\n",
       "      <td>0.225978</td>\n",
       "      <td>0.722835</td>\n",
       "      <td>0.263076</td>\n",
       "      <td>0.092371</td>\n",
       "      <td>0.053406</td>\n",
       "      <td>94.322</td>\n",
       "      <td>0.028347</td>\n",
       "    </tr>\n",
       "    <tr>\n",
       "      <th>4</th>\n",
       "      <td>170</td>\n",
       "      <td>192000</td>\n",
       "      <td>0</td>\n",
       "      <td>NaN</td>\n",
       "      <td>2008-11-26 01:46:05</td>\n",
       "      <td>2006-10-07 00:00:00</td>\n",
       "      <td>181</td>\n",
       "      <td>0</td>\n",
       "      <td>Rock</td>\n",
       "      <td>[25]</td>\n",
       "      <td>...</td>\n",
       "      <td>[]</td>\n",
       "      <td>Industry Standard Massacre</td>\n",
       "      <td>0.886660</td>\n",
       "      <td>0.298518</td>\n",
       "      <td>0.744333</td>\n",
       "      <td>0.920950</td>\n",
       "      <td>0.139587</td>\n",
       "      <td>0.088781</td>\n",
       "      <td>97.880</td>\n",
       "      <td>0.073548</td>\n",
       "    </tr>\n",
       "  </tbody>\n",
       "</table>\n",
       "<p>5 rows × 29 columns</p>\n",
       "</div>"
      ],
      "text/plain": [
       "   track_id  bit_rate  comments        composer         date_created  \\\n",
       "0       153    256000         0  Arc and Sender  2008-11-26 01:45:00   \n",
       "1       154    256000         0  Arc and Sender  2008-11-26 01:45:04   \n",
       "2       155    192000         0             NaN  2008-11-26 01:45:10   \n",
       "3       169    192000         0   James Squeaky  2008-11-26 01:46:02   \n",
       "4       170    192000         0             NaN  2008-11-26 01:46:05   \n",
       "\n",
       "         date_recorded  duration  favorites genre_top genres  ... tags  \\\n",
       "0  2008-11-26 00:00:00       405          5      Rock   [26]  ...   []   \n",
       "1  2008-11-26 00:00:00       319          1      Rock   [26]  ...   []   \n",
       "2  2008-11-26 00:00:00       756          1      Rock   [26]  ...   []   \n",
       "3  2006-01-01 00:00:00       144          1      Rock   [25]  ...   []   \n",
       "4  2006-10-07 00:00:00       181          0      Rock   [25]  ...   []   \n",
       "\n",
       "                        title  acousticness danceability    energy  \\\n",
       "0          Hundred-Year Flood      0.988306     0.255661  0.979774   \n",
       "1         Squares And Circles      0.970135     0.352946  0.023852   \n",
       "2     Maps of the Stars Homes      0.981657     0.142249  0.912122   \n",
       "3                Boss of Goth      0.989141     0.225978  0.722835   \n",
       "4  Industry Standard Massacre      0.886660     0.298518  0.744333   \n",
       "\n",
       "   instrumentalness  liveness  speechiness   tempo   valence  \n",
       "0          0.973006  0.121342     0.051740  90.241  0.034018  \n",
       "1          0.957113  0.113261     0.032177  53.758  0.035632  \n",
       "2          0.967294  0.363510     0.087527  91.912  0.034325  \n",
       "3          0.263076  0.092371     0.053406  94.322  0.028347  \n",
       "4          0.920950  0.139587     0.088781  97.880  0.073548  \n",
       "\n",
       "[5 rows x 29 columns]"
      ]
     },
     "execution_count": 7,
     "metadata": {},
     "output_type": "execute_result"
    }
   ],
   "source": [
    "data.head()"
   ]
  },
  {
   "cell_type": "code",
   "execution_count": 11,
   "metadata": {},
   "outputs": [
    {
     "ename": "NameError",
     "evalue": "name 'X' is not defined",
     "output_type": "error",
     "traceback": [
      "\u001b[1;31m---------------------------------------------------------------------------\u001b[0m",
      "\u001b[1;31mNameError\u001b[0m                                 Traceback (most recent call last)",
      "Cell \u001b[1;32mIn[11], line 3\u001b[0m\n\u001b[0;32m      1\u001b[0m \u001b[39m#separazione tra train e test\u001b[39;00m\n\u001b[1;32m----> 3\u001b[0m X_train, X_test, y_train, y_test \u001b[39m=\u001b[39m data(X,y, test_size \u001b[39m=\u001b[39m \u001b[39m0.2\u001b[39m, random_state\u001b[39m=\u001b[39m\u001b[39m42\u001b[39m, stratify\u001b[39m=\u001b[39my) \n",
      "\u001b[1;31mNameError\u001b[0m: name 'X' is not defined"
     ]
    }
   ],
   "source": [
    "#separazione tra train e test\n",
    "\n",
    "X_train, X_test, y_train, y_test = data(X,y, test_size = 0.2, random_state=42, stratify=y) "
   ]
  },
  {
   "cell_type": "code",
   "execution_count": null,
   "metadata": {},
   "outputs": [],
   "source": []
  }
 ],
 "metadata": {
  "kernelspec": {
   "display_name": "Python 3",
   "language": "python",
   "name": "python3"
  },
  "language_info": {
   "codemirror_mode": {
    "name": "ipython",
    "version": 3
   },
   "file_extension": ".py",
   "mimetype": "text/x-python",
   "name": "python",
   "nbconvert_exporter": "python",
   "pygments_lexer": "ipython3",
   "version": "3.11.1"
  },
  "toc": {
   "base_numbering": 1,
   "nav_menu": {},
   "number_sections": true,
   "sideBar": true,
   "skip_h1_title": false,
   "title_cell": "Table of Contents",
   "title_sidebar": "Contents",
   "toc_cell": true,
   "toc_position": {
    "height": "calc(100% - 180px)",
    "left": "10px",
    "top": "150px",
    "width": "165px"
   },
   "toc_section_display": true,
   "toc_window_display": true
  },
  "vscode": {
   "interpreter": {
    "hash": "b175729dd94a5189d6c16f168ee7c15c8d90320754b64859035c226005e7a2c1"
   }
  }
 },
 "nbformat": 4,
 "nbformat_minor": 4
}
